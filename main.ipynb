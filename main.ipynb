{
 "cells": [
  {
   "cell_type": "markdown",
   "metadata": {},
   "source": [
    "DL model to classify pokemons by types \n",
    "\n",
    "Dataset source: https://www.kaggle.com/datasets/vishalsubbiah/pokemon-images-and-types "
   ]
  },
  {
   "cell_type": "code",
   "execution_count": 2,
   "metadata": {},
   "outputs": [],
   "source": [
    "import os\n",
    "import shutil\n",
    "import pandas as pd\n",
    "import numpy as np\n",
    "import matplotlib.pyplot as plt\n",
    "\n",
    "\n",
    "from keras.preprocessing.image import ImageDataGenerator\n",
    "from keras.utils import load_img, img_to_array\n",
    "from keras import models\n",
    "from keras.applications import VGG16 \n",
    "from keras import layers\n",
    "from keras import models\n",
    "from keras import optimizers\n",
    "\n",
    "import warnings\n",
    "warnings.filterwarnings('ignore')"
   ]
  },
  {
   "cell_type": "code",
   "execution_count": 3,
   "metadata": {},
   "outputs": [
    {
     "data": {
      "text/html": [
       "<div>\n",
       "<style scoped>\n",
       "    .dataframe tbody tr th:only-of-type {\n",
       "        vertical-align: middle;\n",
       "    }\n",
       "\n",
       "    .dataframe tbody tr th {\n",
       "        vertical-align: top;\n",
       "    }\n",
       "\n",
       "    .dataframe thead th {\n",
       "        text-align: right;\n",
       "    }\n",
       "</style>\n",
       "<table border=\"1\" class=\"dataframe\">\n",
       "  <thead>\n",
       "    <tr style=\"text-align: right;\">\n",
       "      <th></th>\n",
       "      <th>Name</th>\n",
       "      <th>Type1</th>\n",
       "      <th>Type2</th>\n",
       "      <th>Filename</th>\n",
       "    </tr>\n",
       "  </thead>\n",
       "  <tbody>\n",
       "    <tr>\n",
       "      <th>0</th>\n",
       "      <td>bulbasaur</td>\n",
       "      <td>Grass</td>\n",
       "      <td>Poison</td>\n",
       "      <td>bulbasaur.png</td>\n",
       "    </tr>\n",
       "    <tr>\n",
       "      <th>1</th>\n",
       "      <td>ivysaur</td>\n",
       "      <td>Grass</td>\n",
       "      <td>Poison</td>\n",
       "      <td>ivysaur.png</td>\n",
       "    </tr>\n",
       "    <tr>\n",
       "      <th>2</th>\n",
       "      <td>venusaur</td>\n",
       "      <td>Grass</td>\n",
       "      <td>Poison</td>\n",
       "      <td>venusaur.png</td>\n",
       "    </tr>\n",
       "    <tr>\n",
       "      <th>3</th>\n",
       "      <td>charmander</td>\n",
       "      <td>Fire</td>\n",
       "      <td>NaN</td>\n",
       "      <td>charmander.png</td>\n",
       "    </tr>\n",
       "    <tr>\n",
       "      <th>4</th>\n",
       "      <td>charmeleon</td>\n",
       "      <td>Fire</td>\n",
       "      <td>NaN</td>\n",
       "      <td>charmeleon.png</td>\n",
       "    </tr>\n",
       "    <tr>\n",
       "      <th>...</th>\n",
       "      <td>...</td>\n",
       "      <td>...</td>\n",
       "      <td>...</td>\n",
       "      <td>...</td>\n",
       "    </tr>\n",
       "    <tr>\n",
       "      <th>804</th>\n",
       "      <td>stakataka</td>\n",
       "      <td>Rock</td>\n",
       "      <td>Steel</td>\n",
       "      <td>stakataka.jpg</td>\n",
       "    </tr>\n",
       "    <tr>\n",
       "      <th>805</th>\n",
       "      <td>blacephalon</td>\n",
       "      <td>Fire</td>\n",
       "      <td>Ghost</td>\n",
       "      <td>blacephalon.jpg</td>\n",
       "    </tr>\n",
       "    <tr>\n",
       "      <th>806</th>\n",
       "      <td>zeraora</td>\n",
       "      <td>Electric</td>\n",
       "      <td>NaN</td>\n",
       "      <td>zeraora.jpg</td>\n",
       "    </tr>\n",
       "    <tr>\n",
       "      <th>807</th>\n",
       "      <td>meltan</td>\n",
       "      <td>Steel</td>\n",
       "      <td>NaN</td>\n",
       "      <td>meltan.jpg</td>\n",
       "    </tr>\n",
       "    <tr>\n",
       "      <th>808</th>\n",
       "      <td>melmetal</td>\n",
       "      <td>Steel</td>\n",
       "      <td>NaN</td>\n",
       "      <td>melmetal.jpg</td>\n",
       "    </tr>\n",
       "  </tbody>\n",
       "</table>\n",
       "<p>809 rows × 4 columns</p>\n",
       "</div>"
      ],
      "text/plain": [
       "            Name     Type1   Type2         Filename\n",
       "0      bulbasaur     Grass  Poison    bulbasaur.png\n",
       "1        ivysaur     Grass  Poison      ivysaur.png\n",
       "2       venusaur     Grass  Poison     venusaur.png\n",
       "3     charmander      Fire     NaN   charmander.png\n",
       "4     charmeleon      Fire     NaN   charmeleon.png\n",
       "..           ...       ...     ...              ...\n",
       "804    stakataka      Rock   Steel    stakataka.jpg\n",
       "805  blacephalon      Fire   Ghost  blacephalon.jpg\n",
       "806      zeraora  Electric     NaN      zeraora.jpg\n",
       "807       meltan     Steel     NaN       meltan.jpg\n",
       "808     melmetal     Steel     NaN     melmetal.jpg\n",
       "\n",
       "[809 rows x 4 columns]"
      ]
     },
     "execution_count": 3,
     "metadata": {},
     "output_type": "execute_result"
    }
   ],
   "source": [
    "#load csv and add filenames\n",
    "df = pd.read_csv(\"pokemon.csv\")\n",
    "original_dataset = \"images/images/\"\n",
    "filenames = os.listdir(original_dataset)\n",
    "filenames_dict = {}\n",
    "for filename in filenames:\n",
    "\tfilenames_dict[filename.split(\".\")[0]] = filename\n",
    "df = df.assign(Filename=df.Name.map(filenames_dict))\n",
    "df"
   ]
  },
  {
   "cell_type": "code",
   "execution_count": 4,
   "metadata": {},
   "outputs": [
    {
     "name": "stdout",
     "output_type": "stream",
     "text": [
      "Valid types: ['Bug', 'Grass', 'Normal', 'Water']\n"
     ]
    }
   ],
   "source": [
    "#Get valid types (any that has more than 50 occurrences)\n",
    "# df.groupby(\"Type1\")[\"Type1\"].count().sort_values(ascending=False)\n",
    "valid_types = list(df.groupby(\"Type1\")[\"Type1\"].count().loc[lambda x: x > 70].index)\n",
    "print(f\"Valid types: {valid_types}\")"
   ]
  },
  {
   "cell_type": "code",
   "execution_count": 5,
   "metadata": {},
   "outputs": [
    {
     "data": {
      "text/html": [
       "<div>\n",
       "<style scoped>\n",
       "    .dataframe tbody tr th:only-of-type {\n",
       "        vertical-align: middle;\n",
       "    }\n",
       "\n",
       "    .dataframe tbody tr th {\n",
       "        vertical-align: top;\n",
       "    }\n",
       "\n",
       "    .dataframe thead th {\n",
       "        text-align: right;\n",
       "    }\n",
       "</style>\n",
       "<table border=\"1\" class=\"dataframe\">\n",
       "  <thead>\n",
       "    <tr style=\"text-align: right;\">\n",
       "      <th></th>\n",
       "      <th>index</th>\n",
       "      <th>Name</th>\n",
       "      <th>Type1</th>\n",
       "      <th>Filename</th>\n",
       "    </tr>\n",
       "  </thead>\n",
       "  <tbody>\n",
       "    <tr>\n",
       "      <th>0</th>\n",
       "      <td>0</td>\n",
       "      <td>bulbasaur</td>\n",
       "      <td>Grass</td>\n",
       "      <td>bulbasaur.png</td>\n",
       "    </tr>\n",
       "    <tr>\n",
       "      <th>1</th>\n",
       "      <td>1</td>\n",
       "      <td>ivysaur</td>\n",
       "      <td>Grass</td>\n",
       "      <td>ivysaur.png</td>\n",
       "    </tr>\n",
       "    <tr>\n",
       "      <th>2</th>\n",
       "      <td>2</td>\n",
       "      <td>venusaur</td>\n",
       "      <td>Grass</td>\n",
       "      <td>venusaur.png</td>\n",
       "    </tr>\n",
       "    <tr>\n",
       "      <th>3</th>\n",
       "      <td>6</td>\n",
       "      <td>squirtle</td>\n",
       "      <td>Water</td>\n",
       "      <td>squirtle.png</td>\n",
       "    </tr>\n",
       "    <tr>\n",
       "      <th>4</th>\n",
       "      <td>7</td>\n",
       "      <td>wartortle</td>\n",
       "      <td>Water</td>\n",
       "      <td>wartortle.png</td>\n",
       "    </tr>\n",
       "    <tr>\n",
       "      <th>...</th>\n",
       "      <td>...</td>\n",
       "      <td>...</td>\n",
       "      <td>...</td>\n",
       "      <td>...</td>\n",
       "    </tr>\n",
       "    <tr>\n",
       "      <th>364</th>\n",
       "      <td>786</td>\n",
       "      <td>tapu-bulu</td>\n",
       "      <td>Grass</td>\n",
       "      <td>tapu-bulu.jpg</td>\n",
       "    </tr>\n",
       "    <tr>\n",
       "      <th>365</th>\n",
       "      <td>787</td>\n",
       "      <td>tapu-fini</td>\n",
       "      <td>Water</td>\n",
       "      <td>tapu-fini.jpg</td>\n",
       "    </tr>\n",
       "    <tr>\n",
       "      <th>366</th>\n",
       "      <td>793</td>\n",
       "      <td>buzzwole</td>\n",
       "      <td>Bug</td>\n",
       "      <td>buzzwole.jpg</td>\n",
       "    </tr>\n",
       "    <tr>\n",
       "      <th>367</th>\n",
       "      <td>794</td>\n",
       "      <td>pheromosa</td>\n",
       "      <td>Bug</td>\n",
       "      <td>pheromosa.jpg</td>\n",
       "    </tr>\n",
       "    <tr>\n",
       "      <th>368</th>\n",
       "      <td>797</td>\n",
       "      <td>kartana</td>\n",
       "      <td>Grass</td>\n",
       "      <td>kartana.jpg</td>\n",
       "    </tr>\n",
       "  </tbody>\n",
       "</table>\n",
       "<p>369 rows × 4 columns</p>\n",
       "</div>"
      ],
      "text/plain": [
       "     index       Name  Type1       Filename\n",
       "0        0  bulbasaur  Grass  bulbasaur.png\n",
       "1        1    ivysaur  Grass    ivysaur.png\n",
       "2        2   venusaur  Grass   venusaur.png\n",
       "3        6   squirtle  Water   squirtle.png\n",
       "4        7  wartortle  Water  wartortle.png\n",
       "..     ...        ...    ...            ...\n",
       "364    786  tapu-bulu  Grass  tapu-bulu.jpg\n",
       "365    787  tapu-fini  Water  tapu-fini.jpg\n",
       "366    793   buzzwole    Bug   buzzwole.jpg\n",
       "367    794  pheromosa    Bug  pheromosa.jpg\n",
       "368    797    kartana  Grass    kartana.jpg\n",
       "\n",
       "[369 rows x 4 columns]"
      ]
     },
     "execution_count": 5,
     "metadata": {},
     "output_type": "execute_result"
    }
   ],
   "source": [
    "#Fitler pokemon by valid types\n",
    "valid_pokemon = df[df[\"Type1\"].isin(valid_types)];\n",
    "valid_pokemon = valid_pokemon[[\"Name\", \"Type1\", \"Filename\"]]\n",
    "valid_pokemon.reset_index(inplace=True)\n",
    "valid_pokemon"
   ]
  },
  {
   "cell_type": "code",
   "execution_count": 6,
   "metadata": {},
   "outputs": [],
   "source": [
    "#Data split\n",
    "train, validation, test = np.split(valid_pokemon, [int(0.6*len(valid_pokemon)), int(0.8*len(valid_pokemon))])    "
   ]
  },
  {
   "cell_type": "code",
   "execution_count": 7,
   "metadata": {},
   "outputs": [],
   "source": [
    "#Create directories\n",
    "base_dir = \"pokemon/\"\n",
    "os.makedirs(base_dir, exist_ok=True)\n",
    "\n",
    "train_dir = os.path.join(base_dir, \"train\")\n",
    "os.makedirs(train_dir, exist_ok=True)\n",
    "validation_dir = os.path.join(base_dir, \"validation\")\n",
    "os.makedirs(validation_dir, exist_ok=True)\n",
    "test_dir = os.path.join(base_dir, \"test\")\n",
    "os.makedirs(test_dir, exist_ok=True)"
   ]
  },
  {
   "cell_type": "code",
   "execution_count": 8,
   "metadata": {},
   "outputs": [],
   "source": [
    "\n",
    "\n",
    "for type in valid_types:\n",
    "\tnew_dir = os.path.join(train_dir, type)\n",
    "\tos.makedirs(new_dir, exist_ok=True)\n",
    "\n",
    "for type in valid_types:\n",
    "\tnew_dir = os.path.join(validation_dir, type)\n",
    "\tos.makedirs(new_dir, exist_ok=True)\n",
    "\n",
    "for type in valid_types:\n",
    "\tnew_dir = os.path.join(test_dir, type)\n",
    "\tos.makedirs(new_dir, exist_ok=True)\n",
    "\n",
    "for index, row in train.iterrows():\n",
    "\tsrc = os.path.join(original_dataset, row[\"Filename\"])\n",
    "\tfolder = os.path.join(train_dir, row[\"Type1\"])\n",
    "\tdst = os.path.join(folder, row[\"Filename\"])\n",
    "\tshutil.copyfile(src, dst)\n",
    "\n",
    "for index, row in validation.iterrows():\n",
    "\tsrc = os.path.join(original_dataset, row[\"Filename\"])\n",
    "\tfolder = os.path.join(validation_dir, row[\"Type1\"])\n",
    "\tdst = os.path.join(folder, row[\"Filename\"])\n",
    "\tshutil.copyfile(src, dst)\n",
    "\n",
    "for index, row in test.iterrows():\n",
    "\tsrc = os.path.join(original_dataset, row[\"Filename\"])\n",
    "\tfolder = os.path.join(test_dir, row[\"Type1\"])\n",
    "\tdst = os.path.join(folder, row[\"Filename\"])\n",
    "\tshutil.copyfile(src, dst)\n"
   ]
  },
  {
   "cell_type": "code",
   "execution_count": 9,
   "metadata": {},
   "outputs": [
    {
     "name": "stdout",
     "output_type": "stream",
     "text": [
      "Found 221 images belonging to 4 classes.\n",
      "Found 74 images belonging to 4 classes.\n",
      "Found 74 images belonging to 4 classes.\n"
     ]
    }
   ],
   "source": [
    "datagen = ImageDataGenerator()\n",
    "train_generator = datagen.flow_from_directory(train_dir, color_mode='rgb', class_mode=\"categorical\", target_size=(240, 240))\n",
    "validation_generator = datagen.flow_from_directory(validation_dir, color_mode='rgb', class_mode=\"categorical\", target_size=(240, 240))\n",
    "test_generator = datagen.flow_from_directory(test_dir, class_mode=\"categorical\", color_mode='rgb', target_size=(240, 240))"
   ]
  },
  {
   "cell_type": "code",
   "execution_count": 10,
   "metadata": {},
   "outputs": [
    {
     "name": "stdout",
     "output_type": "stream",
     "text": [
      "Model: \"sequential\"\n",
      "_________________________________________________________________\n",
      " Layer (type)                Output Shape              Param #   \n",
      "=================================================================\n",
      " conv2d (Conv2D)             (None, 238, 238, 16)      448       \n",
      "                                                                 \n",
      " max_pooling2d (MaxPooling2D  (None, 79, 79, 16)       0         \n",
      " )                                                               \n",
      "                                                                 \n",
      " conv2d_1 (Conv2D)           (None, 77, 77, 32)        4640      \n",
      "                                                                 \n",
      " flatten (Flatten)           (None, 189728)            0         \n",
      "                                                                 \n",
      " dense (Dense)               (None, 8)                 1517832   \n",
      "                                                                 \n",
      " dense_1 (Dense)             (None, 4)                 36        \n",
      "                                                                 \n",
      "=================================================================\n",
      "Total params: 1,522,956\n",
      "Trainable params: 1,522,956\n",
      "Non-trainable params: 0\n",
      "_________________________________________________________________\n"
     ]
    }
   ],
   "source": [
    "model1 = models.Sequential()\n",
    "model1.add(layers.Conv2D(16, (3,3), activation=\"relu\", input_shape=(240, 240, 3)))\n",
    "model1.add(layers.MaxPooling2D(3,3))\n",
    "model1.add(layers.Conv2D(32, (3,3), activation=\"relu\"))\n",
    "model1.add(layers.Flatten())\n",
    "model1.add(layers.Dense(8, activation=\"relu\"))\n",
    "model1.add(layers.Dense(4, activation=\"softmax\"))\n",
    "\n",
    "model1.summary()"
   ]
  },
  {
   "cell_type": "code",
   "execution_count": 11,
   "metadata": {},
   "outputs": [],
   "source": [
    "model1.compile(loss=\"categorical_crossentropy\", optimizer=\"adam\", metrics=[\"acc\"])"
   ]
  },
  {
   "cell_type": "code",
   "execution_count": 13,
   "metadata": {},
   "outputs": [
    {
     "name": "stdout",
     "output_type": "stream",
     "text": [
      "Epoch 1/10\n",
      "7/7 - 4s - loss: 1.3621 - acc: 0.1991 - val_loss: 1.3865 - val_acc: 0.2432 - 4s/epoch - 619ms/step\n",
      "Epoch 2/10\n",
      "7/7 - 4s - loss: 1.3874 - acc: 0.1810 - val_loss: 1.3863 - val_acc: 0.2432 - 4s/epoch - 522ms/step\n",
      "Epoch 3/10\n",
      "7/7 - 4s - loss: 1.3872 - acc: 0.2308 - val_loss: 1.3860 - val_acc: 0.2973 - 4s/epoch - 620ms/step\n",
      "Epoch 4/10\n",
      "7/7 - 5s - loss: 1.3866 - acc: 0.2851 - val_loss: 1.3857 - val_acc: 0.2973 - 5s/epoch - 673ms/step\n",
      "Epoch 5/10\n",
      "7/7 - 7s - loss: 1.3860 - acc: 0.2851 - val_loss: 1.3852 - val_acc: 0.2973 - 7s/epoch - 1s/step\n",
      "Epoch 6/10\n",
      "7/7 - 7s - loss: 1.3853 - acc: 0.2851 - val_loss: 1.3848 - val_acc: 0.2973 - 7s/epoch - 1s/step\n",
      "Epoch 7/10\n",
      "7/7 - 5s - loss: 1.3845 - acc: 0.2851 - val_loss: 1.3843 - val_acc: 0.2973 - 5s/epoch - 767ms/step\n",
      "Epoch 8/10\n",
      "7/7 - 5s - loss: 1.3838 - acc: 0.2851 - val_loss: 1.3839 - val_acc: 0.2973 - 5s/epoch - 715ms/step\n",
      "Epoch 9/10\n",
      "7/7 - 5s - loss: 1.3829 - acc: 0.2851 - val_loss: 1.3834 - val_acc: 0.2973 - 5s/epoch - 652ms/step\n",
      "Epoch 10/10\n",
      "7/7 - 5s - loss: 1.3822 - acc: 0.2851 - val_loss: 1.3829 - val_acc: 0.2973 - 5s/epoch - 647ms/step\n"
     ]
    }
   ],
   "source": [
    "history1 = model1.fit_generator(train_generator, epochs=10, verbose=2, validation_data=validation_generator)"
   ]
  },
  {
   "cell_type": "code",
   "execution_count": 56,
   "metadata": {},
   "outputs": [],
   "source": [
    "model1.save(\"model1.h5\")"
   ]
  },
  {
   "cell_type": "code",
   "execution_count": 53,
   "metadata": {},
   "outputs": [],
   "source": [
    "acc1 = history1.history['acc']\n",
    "val_acc1 = history1.history['val_acc']\n",
    "loss1 = history1.history['loss']\n",
    "val_loss1 = history1.history['val_loss']"
   ]
  },
  {
   "cell_type": "code",
   "execution_count": 54,
   "metadata": {},
   "outputs": [
    {
     "data": {
      "image/png": "[encoded data removed]",
      "text/plain": [
       "<Figure size 432x288 with 1 Axes>"
      ]
     },
     "metadata": {
      "needs_background": "light"
     },
     "output_type": "display_data"
    },
    {
     "data": {
      "image/png": "[encoded data removed]",
      "text/plain": [
       "<Figure size 432x288 with 1 Axes>"
      ]
     },
     "metadata": {
      "needs_background": "light"
     },
     "output_type": "display_data"
    }
   ],
   "source": [
    "epochs = range(1, len(acc1)+1)\n",
    "\n",
    "plt.plot(epochs,acc1,'b',label='train accuracy')\n",
    "plt.plot(epochs,val_acc1, 'r', label='validation accuracy')\n",
    "plt.title('train acc vs val acc')\n",
    "plt.legend()\n",
    "\n",
    "plt.figure()\n",
    "\n",
    "plt.plot(epochs,loss1, 'b', label ='training loss')\n",
    "plt.plot(epochs,val_loss1, 'r', label = 'validation loss')\n",
    "plt.title('train loss vs val loss')\n",
    "plt.legend()\n",
    "\n",
    "plt.show()"
   ]
  },
  {
   "cell_type": "code",
   "execution_count": 55,
   "metadata": {},
   "outputs": [
    {
     "data": {
      "text/plain": [
       "0.20270270109176636"
      ]
     },
     "execution_count": 55,
     "metadata": {},
     "output_type": "execute_result"
    }
   ],
   "source": [
    "test_loss1, test_acc1 = model1.evaluate_generator(test_generator)\n",
    "test_acc1"
   ]
  },
  {
   "cell_type": "code",
   "execution_count": 25,
   "metadata": {},
   "outputs": [
    {
     "name": "stdout",
     "output_type": "stream",
     "text": [
      "Model: \"sequential_4\"\n",
      "_________________________________________________________________\n",
      " Layer (type)                Output Shape              Param #   \n",
      "=================================================================\n",
      " vgg16 (Functional)          (None, 7, 7, 512)         14714688  \n",
      "                                                                 \n",
      " flatten_4 (Flatten)         (None, 25088)             0         \n",
      "                                                                 \n",
      " dense_8 (Dense)             (None, 16)                401424    \n",
      "                                                                 \n",
      " dense_9 (Dense)             (None, 4)                 68        \n",
      "                                                                 \n",
      "=================================================================\n",
      "Total params: 15,116,180\n",
      "Trainable params: 401,492\n",
      "Non-trainable params: 14,714,688\n",
      "_________________________________________________________________\n"
     ]
    }
   ],
   "source": [
    "conv_base = VGG16(weights=None, include_top=False, input_shape=(240, 240, 3))\n",
    "\n",
    "model2 = models.Sequential()\n",
    "model2.add(conv_base)\n",
    "model2.add(layers.Flatten())\n",
    "model2.add(layers.Dense(16, activation=\"relu\"))\n",
    "model2.add(layers.Dense(4, activation=\"softmax\"))\n",
    "\n",
    "conv_base.trainable = False\n",
    "\n",
    "model2.summary()"
   ]
  },
  {
   "cell_type": "code",
   "execution_count": 26,
   "metadata": {},
   "outputs": [],
   "source": [
    "model2.compile(loss=\"categorical_crossentropy\", optimizer=\"adam\", metrics=[\"acc\"])"
   ]
  },
  {
   "cell_type": "code",
   "execution_count": 28,
   "metadata": {},
   "outputs": [
    {
     "name": "stdout",
     "output_type": "stream",
     "text": [
      "Epoch 1/10\n",
      "7/7 - 91s - loss: 1.3775 - acc: 0.3303 - val_loss: 1.3854 - val_acc: 0.3784 - 91s/epoch - 13s/step\n",
      "Epoch 2/10\n",
      "7/7 - 101s - loss: 1.3698 - acc: 0.3665 - val_loss: 1.3767 - val_acc: 0.2973 - 101s/epoch - 14s/step\n",
      "Epoch 3/10\n",
      "7/7 - 96s - loss: 1.3603 - acc: 0.3484 - val_loss: 1.3767 - val_acc: 0.2973 - 96s/epoch - 14s/step\n",
      "Epoch 4/10\n",
      "7/7 - 89s - loss: 1.3575 - acc: 0.3846 - val_loss: 1.3639 - val_acc: 0.3784 - 89s/epoch - 13s/step\n",
      "Epoch 5/10\n",
      "7/7 - 92s - loss: 1.3385 - acc: 0.4299 - val_loss: 1.3742 - val_acc: 0.3378 - 92s/epoch - 13s/step\n",
      "Epoch 6/10\n",
      "7/7 - 89s - loss: 1.3236 - acc: 0.4163 - val_loss: 1.3666 - val_acc: 0.4324 - 89s/epoch - 13s/step\n",
      "Epoch 7/10\n",
      "7/7 - 90s - loss: 1.3073 - acc: 0.4570 - val_loss: 1.4309 - val_acc: 0.3108 - 90s/epoch - 13s/step\n",
      "Epoch 8/10\n",
      "7/7 - 96s - loss: 1.3151 - acc: 0.4299 - val_loss: 1.3678 - val_acc: 0.3649 - 96s/epoch - 14s/step\n",
      "Epoch 9/10\n",
      "7/7 - 90s - loss: 1.2979 - acc: 0.4570 - val_loss: 1.3732 - val_acc: 0.3649 - 90s/epoch - 13s/step\n",
      "Epoch 10/10\n",
      "7/7 - 92s - loss: 1.2888 - acc: 0.4525 - val_loss: 1.3567 - val_acc: 0.3919 - 92s/epoch - 13s/step\n"
     ]
    }
   ],
   "source": [
    "history2 = model2.fit_generator(train_generator, epochs=10, verbose=2, validation_data=validation_generator)"
   ]
  },
  {
   "cell_type": "code",
   "execution_count": 33,
   "metadata": {},
   "outputs": [],
   "source": [
    "model2.save(\"model2.h5\")"
   ]
  },
  {
   "cell_type": "code",
   "execution_count": 29,
   "metadata": {},
   "outputs": [],
   "source": [
    "acc2 = history2.history['acc']\n",
    "val_acc2 = history2.history['val_acc']\n",
    "loss2 = history2.history['loss']\n",
    "val_loss2 = history2.history['val_loss']"
   ]
  },
  {
   "cell_type": "code",
   "execution_count": 30,
   "metadata": {},
   "outputs": [
    {
     "data": {
      "image/png": "[encoded data removed]",
      "text/plain": [
       "<Figure size 432x288 with 1 Axes>"
      ]
     },
     "metadata": {
      "needs_background": "light"
     },
     "output_type": "display_data"
    },
    {
     "data": {
      "image/png": "[encoded data removed]",
      "text/plain": [
       "<Figure size 432x288 with 1 Axes>"
      ]
     },
     "metadata": {
      "needs_background": "light"
     },
     "output_type": "display_data"
    }
   ],
   "source": [
    "epochs = range(1, len(acc2)+1)\n",
    "\n",
    "plt.plot(epochs,acc2,'b',label='train accuracy')\n",
    "plt.plot(epochs,val_acc2, 'r', label='validation accuracy')\n",
    "plt.title('train acc vs val acc')\n",
    "plt.legend()\n",
    "\n",
    "plt.figure()\n",
    "\n",
    "plt.plot(epochs,loss2, 'b', label ='training loss')\n",
    "plt.plot(epochs,val_loss2, 'r', label = 'validation loss')\n",
    "plt.title('train loss vs val loss')\n",
    "plt.legend()\n",
    "\n",
    "plt.show()"
   ]
  },
  {
   "cell_type": "code",
   "execution_count": 31,
   "metadata": {},
   "outputs": [
    {
     "data": {
      "text/plain": [
       "0.2567567527294159"
      ]
     },
     "execution_count": 31,
     "metadata": {},
     "output_type": "execute_result"
    }
   ],
   "source": [
    "test_loss, test_acc = model2.evaluate_generator(test_generator)\n",
    "test_acc"
   ]
  },
  {
   "cell_type": "code",
   "execution_count": 29,
   "metadata": {},
   "outputs": [],
   "source": [
    "model2 = models.load_model(\"model2.h5\")"
   ]
  },
  {
   "cell_type": "code",
   "execution_count": 30,
   "metadata": {},
   "outputs": [
    {
     "name": "stdout",
     "output_type": "stream",
     "text": [
      "1/1 [==============================] - 0s 330ms/step\n",
      "Normal\n"
     ]
    },
    {
     "data": {
      "image/png": "[encoded data removed]",
      "text/plain": [
       "<Figure size 432x288 with 1 Axes>"
      ]
     },
     "metadata": {
      "needs_background": "light"
     },
     "output_type": "display_data"
    }
   ],
   "source": [
    "img = load_img(\"./pokemon/test/Normal/braviary.png\", target_size=(240, 240))\n",
    "img_tensor = img_to_array(img)\n",
    "img_tensor = np.expand_dims(img_tensor, axis = 0)\n",
    "img_tensor /= 255.\n",
    "\n",
    "prediction = model2.predict(img_tensor)\n",
    "print(valid_types[np.argmax([prediction])])\n",
    "plt.imshow(img_tensor[0])\n",
    "plt.show()\n"
   ]
  },
  {
   "cell_type": "code",
   "execution_count": 43,
   "metadata": {},
   "outputs": [
    {
     "name": "stdout",
     "output_type": "stream",
     "text": [
      "1/1 [==============================] - 0s 191ms/step\n",
      "Normal\n"
     ]
    },
    {
     "data": {
      "image/png": "[encoded data removed]",
      "text/plain": [
       "<Figure size 432x288 with 1 Axes>"
      ]
     },
     "metadata": {
      "needs_background": "light"
     },
     "output_type": "display_data"
    }
   ],
   "source": [
    "img = load_img(\"./pokemon/test/Water/wishiwashi-solo.jpg\", target_size=(240, 240))\n",
    "img_tensor = img_to_array(img)\n",
    "img_tensor = np.expand_dims(img_tensor, axis = 0)\n",
    "img_tensor /= 255.\n",
    "\n",
    "prediction = model2.predict(img_tensor)\n",
    "print(valid_types[np.argmax([prediction])])\n",
    "plt.imshow(img_tensor[0])\n",
    "plt.show()"
   ]
  }
 ],
 "metadata": {
  "kernelspec": {
   "display_name": "Python 3.8.10 64-bit",
   "language": "python",
   "name": "python3"
  },
  "language_info": {
   "codemirror_mode": {
    "name": "ipython",
    "version": 3
   },
   "file_extension": ".py",
   "mimetype": "text/x-python",
   "name": "python",
   "nbconvert_exporter": "python",
   "pygments_lexer": "ipython3",
   "version": "3.8.10"
  },
  "orig_nbformat": 4,
  "vscode": {
   "interpreter": {
    "hash": "31f2aee4e71d21fbe5cf8b01ff0e069b9275f58929596ceb00d14d90e3e16cd6"
   }
  }
 },
 "nbformat": 4,
 "nbformat_minor": 2
}
