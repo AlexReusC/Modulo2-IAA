{
 "cells": [
  {
   "cell_type": "markdown",
   "metadata": {},
   "source": [
    "DL model to classify pokemons by generations\n",
    "\n",
    "Dataset source: https://www.kaggle.com/datasets/vishalsubbiah/pokemon-images-and-types "
   ]
  },
  {
   "cell_type": "code",
   "execution_count": 3,
   "metadata": {},
   "outputs": [
    {
     "ename": "ModuleNotFoundError",
     "evalue": "No module named 'tensorflow'",
     "output_type": "error",
     "traceback": [
      "\u001b[0;31m---------------------------------------------------------------------------\u001b[0m",
      "\u001b[0;31mModuleNotFoundError\u001b[0m                       Traceback (most recent call last)",
      "Cell \u001b[0;32mIn [3], line 6\u001b[0m\n\u001b[1;32m      3\u001b[0m \u001b[39mimport\u001b[39;00m \u001b[39mpandas\u001b[39;00m \u001b[39mas\u001b[39;00m \u001b[39mpd\u001b[39;00m\n\u001b[1;32m      4\u001b[0m \u001b[39mimport\u001b[39;00m \u001b[39mnumpy\u001b[39;00m \u001b[39mas\u001b[39;00m \u001b[39mnp\u001b[39;00m\n\u001b[0;32m----> 6\u001b[0m \u001b[39mfrom\u001b[39;00m \u001b[39mtensorflow\u001b[39;00m\u001b[39m.\u001b[39;00m\u001b[39mkeras\u001b[39;00m\u001b[39m.\u001b[39;00m\u001b[39mpreprocessing\u001b[39;00m\u001b[39m.\u001b[39;00m\u001b[39mimage\u001b[39;00m \u001b[39mimport\u001b[39;00m ImageDataGenerator\n",
      "\u001b[0;31mModuleNotFoundError\u001b[0m: No module named 'tensorflow'"
     ]
    }
   ],
   "source": [
    "import os\n",
    "import shutil\n",
    "import pandas as pd\n",
    "import numpy as np\n",
    "\n",
    "import tensorflow as tf"
   ]
  },
  {
   "cell_type": "code",
   "execution_count": 9,
   "metadata": {},
   "outputs": [
    {
     "data": {
      "text/html": [
       "<div>\n",
       "<style scoped>\n",
       "    .dataframe tbody tr th:only-of-type {\n",
       "        vertical-align: middle;\n",
       "    }\n",
       "\n",
       "    .dataframe tbody tr th {\n",
       "        vertical-align: top;\n",
       "    }\n",
       "\n",
       "    .dataframe thead th {\n",
       "        text-align: right;\n",
       "    }\n",
       "</style>\n",
       "<table border=\"1\" class=\"dataframe\">\n",
       "  <thead>\n",
       "    <tr style=\"text-align: right;\">\n",
       "      <th></th>\n",
       "      <th>Name</th>\n",
       "      <th>Type1</th>\n",
       "      <th>Type2</th>\n",
       "      <th>Filename</th>\n",
       "    </tr>\n",
       "  </thead>\n",
       "  <tbody>\n",
       "    <tr>\n",
       "      <th>0</th>\n",
       "      <td>bulbasaur</td>\n",
       "      <td>Grass</td>\n",
       "      <td>Poison</td>\n",
       "      <td>bulbasaur.png</td>\n",
       "    </tr>\n",
       "    <tr>\n",
       "      <th>1</th>\n",
       "      <td>ivysaur</td>\n",
       "      <td>Grass</td>\n",
       "      <td>Poison</td>\n",
       "      <td>ivysaur.png</td>\n",
       "    </tr>\n",
       "    <tr>\n",
       "      <th>2</th>\n",
       "      <td>venusaur</td>\n",
       "      <td>Grass</td>\n",
       "      <td>Poison</td>\n",
       "      <td>venusaur.png</td>\n",
       "    </tr>\n",
       "    <tr>\n",
       "      <th>3</th>\n",
       "      <td>charmander</td>\n",
       "      <td>Fire</td>\n",
       "      <td>NaN</td>\n",
       "      <td>charmander.png</td>\n",
       "    </tr>\n",
       "    <tr>\n",
       "      <th>4</th>\n",
       "      <td>charmeleon</td>\n",
       "      <td>Fire</td>\n",
       "      <td>NaN</td>\n",
       "      <td>charmeleon.png</td>\n",
       "    </tr>\n",
       "    <tr>\n",
       "      <th>...</th>\n",
       "      <td>...</td>\n",
       "      <td>...</td>\n",
       "      <td>...</td>\n",
       "      <td>...</td>\n",
       "    </tr>\n",
       "    <tr>\n",
       "      <th>804</th>\n",
       "      <td>stakataka</td>\n",
       "      <td>Rock</td>\n",
       "      <td>Steel</td>\n",
       "      <td>stakataka.png</td>\n",
       "    </tr>\n",
       "    <tr>\n",
       "      <th>805</th>\n",
       "      <td>blacephalon</td>\n",
       "      <td>Fire</td>\n",
       "      <td>Ghost</td>\n",
       "      <td>blacephalon.png</td>\n",
       "    </tr>\n",
       "    <tr>\n",
       "      <th>806</th>\n",
       "      <td>zeraora</td>\n",
       "      <td>Electric</td>\n",
       "      <td>NaN</td>\n",
       "      <td>zeraora.png</td>\n",
       "    </tr>\n",
       "    <tr>\n",
       "      <th>807</th>\n",
       "      <td>meltan</td>\n",
       "      <td>Steel</td>\n",
       "      <td>NaN</td>\n",
       "      <td>meltan.png</td>\n",
       "    </tr>\n",
       "    <tr>\n",
       "      <th>808</th>\n",
       "      <td>melmetal</td>\n",
       "      <td>Steel</td>\n",
       "      <td>NaN</td>\n",
       "      <td>melmetal.png</td>\n",
       "    </tr>\n",
       "  </tbody>\n",
       "</table>\n",
       "<p>809 rows × 4 columns</p>\n",
       "</div>"
      ],
      "text/plain": [
       "            Name     Type1   Type2         Filename\n",
       "0      bulbasaur     Grass  Poison    bulbasaur.png\n",
       "1        ivysaur     Grass  Poison      ivysaur.png\n",
       "2       venusaur     Grass  Poison     venusaur.png\n",
       "3     charmander      Fire     NaN   charmander.png\n",
       "4     charmeleon      Fire     NaN   charmeleon.png\n",
       "..           ...       ...     ...              ...\n",
       "804    stakataka      Rock   Steel    stakataka.png\n",
       "805  blacephalon      Fire   Ghost  blacephalon.png\n",
       "806      zeraora  Electric     NaN      zeraora.png\n",
       "807       meltan     Steel     NaN       meltan.png\n",
       "808     melmetal     Steel     NaN     melmetal.png\n",
       "\n",
       "[809 rows x 4 columns]"
      ]
     },
     "execution_count": 9,
     "metadata": {},
     "output_type": "execute_result"
    }
   ],
   "source": [
    "#load csv and add filenames\n",
    "df = pd.read_csv(\"pokemon.csv\")\n",
    "df[\"Filename\"] = df[\"Name\"] + \".png\"\n",
    "df"
   ]
  },
  {
   "cell_type": "code",
   "execution_count": 10,
   "metadata": {},
   "outputs": [
    {
     "name": "stdout",
     "output_type": "stream",
     "text": [
      "Valid types: ['Bug', 'Fire', 'Grass', 'Normal', 'Psychic', 'Water']\n"
     ]
    }
   ],
   "source": [
    "#Get valid types (any that has more than 50 occurrences)\n",
    "# df.groupby(\"Type1\")[\"Type1\"].count().sort_values(ascending=False)\n",
    "valid_types = list(df.groupby(\"Type1\")[\"Type1\"].count().loc[lambda x: x > 50].index)\n",
    "print(f\"Valid types: {valid_types}\")"
   ]
  },
  {
   "cell_type": "code",
   "execution_count": 11,
   "metadata": {},
   "outputs": [],
   "source": [
    "#Fitler pokemon by valid types\n",
    "valid_pokemon = df[df[\"Type1\"].isin(valid_types)];\n",
    "valid_pokemon = valid_pokemon[[\"Name\", \"Type1\", \"Filename\"]]\n",
    "valid_pokemon.reset_index(inplace=True)"
   ]
  },
  {
   "cell_type": "code",
   "execution_count": 12,
   "metadata": {},
   "outputs": [],
   "source": [
    "#Data split\n",
    "train, valid, test = np.split(valid_pokemon, [int(0.6*len(valid_pokemon)), int(0.8*len(valid_pokemon))])    "
   ]
  },
  {
   "cell_type": "code",
   "execution_count": 18,
   "metadata": {},
   "outputs": [],
   "source": [
    "#Create directories\n",
    "original_dataset = \"images/images/\"\n",
    "base_dir = \"pokemon/\"\n",
    "os.makedirs(base_dir, exist_ok=True)\n",
    "\n",
    "train_dir = os.path.join(base_dir, \"train\")\n",
    "os.makedirs(train_dir, exist_ok=True)\n",
    "validation_dir = os.path.join(base_dir, \"validation\")\n",
    "os.makedirs(validation_dir, exist_ok=True)\n",
    "test_dir = os.path.join(base_dir, \"test\")\n",
    "os.makedirs(test_dir, exist_ok=True)\n",
    "\n",
    "for type in valid_types:\n",
    "\tnew_dir = os.path.join(train_dir, type)\n",
    "\tos.makedirs(new_dir, exist_ok=True)\n",
    "\n",
    "for type in valid_types:\n",
    "\tnew_dir = os.path.join(validation_dir, type)\n",
    "\tos.makedirs(new_dir, exist_ok=True)\n",
    "\n",
    "for type in valid_types:\n",
    "\tnew_dir = os.path.join(test_dir, type)\n",
    "\tos.makedirs(new_dir, exist_ok=True)\n",
    "\n",
    "for index, row in train.iterrows():\n",
    "\tsrc = os.path.join(original_dataset, row[\"Filename\"])\n",
    "\tfolder = os.path.join(train_dir, row[\"Type1\"])\n",
    "\tdst = os.path.join(folder, row[\"Filename\"])\n",
    "\tshutil.copyfile(src, dst)\n",
    "\n",
    "for index, row in train.iterrows():\n",
    "\tsrc = os.path.join(original_dataset, row[\"Filename\"])\n",
    "\tfolder = os.path.join(validation_dir, row[\"Type1\"])\n",
    "\tdst = os.path.join(folder, row[\"Filename\"])\n",
    "\tshutil.copyfile(src, dst)\n",
    "\n",
    "for index, row in train.iterrows():\n",
    "\tsrc = os.path.join(original_dataset, row[\"Filename\"])\n",
    "\tfolder = os.path.join(test_dir, row[\"Type1\"])\n",
    "\tdst = os.path.join(folder, row[\"Filename\"])\n",
    "\tshutil.copyfile(src, dst)\n"
   ]
  },
  {
   "cell_type": "code",
   "execution_count": null,
   "metadata": {},
   "outputs": [],
   "source": []
  }
 ],
 "metadata": {
  "kernelspec": {
   "display_name": "Python 3.8.10 ('venv': venv)",
   "language": "python",
   "name": "python3"
  },
  "language_info": {
   "codemirror_mode": {
    "name": "ipython",
    "version": 3
   },
   "file_extension": ".py",
   "mimetype": "text/x-python",
   "name": "python",
   "nbconvert_exporter": "python",
   "pygments_lexer": "ipython3",
   "version": "3.8.10"
  },
  "orig_nbformat": 4,
  "vscode": {
   "interpreter": {
    "hash": "6f3f48b57ead41a121b150ef7f3443d88b77d5976d8c162b05f84c2066394065"
   }
  }
 },
 "nbformat": 4,
 "nbformat_minor": 2
}
